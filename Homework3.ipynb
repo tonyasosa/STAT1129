{
 "cells": [
  {
   "cell_type": "code",
   "execution_count": 39,
   "metadata": {},
   "outputs": [
    {
     "name": "stdout",
     "output_type": "stream",
     "text": [
      "88\n"
     ]
    }
   ],
   "source": [
    "#1.1\n",
    "marks = {'Andy':88, 'Amy':66, 'James': 90, 'Jules': 55, 'Arthur': 77}\n",
    "def grades(name):\n",
    "    if (name in marks):\n",
    "        print (marks.get(name))\n",
    "    else:\n",
    "        print(\"Cannot find this student’s name\")\n",
    "    \n",
    "        \n",
    "grades('Andy')\n",
    "    \n",
    "    \n",
    "    \n",
    "    "
   ]
  },
  {
   "cell_type": "code",
   "execution_count": 33,
   "metadata": {},
   "outputs": [
    {
     "data": {
      "text/plain": [
       "75.2"
      ]
     },
     "execution_count": 33,
     "metadata": {},
     "output_type": "execute_result"
    }
   ],
   "source": [
    "#1.2\n",
    "def average(marks):\n",
    "    sum = 0 \n",
    "    for k, v in marks.items():\n",
    "        sum = sum + v\n",
    "    return (sum/len(marks))\n",
    "\n",
    "average(marks)"
   ]
  },
  {
   "cell_type": "code",
   "execution_count": 5,
   "metadata": {},
   "outputs": [
    {
     "name": "stdout",
     "output_type": "stream",
     "text": [
      "0\n",
      "0\n",
      "1\n",
      "1\n",
      "2\n",
      "4\n",
      "3\n",
      "9\n",
      "4\n",
      "16\n",
      "5\n",
      "25\n",
      "6\n",
      "36\n",
      "7\n",
      "49\n",
      "8\n",
      "64\n",
      "greater than 8\n"
     ]
    }
   ],
   "source": [
    "#2\n",
    "def squared(num):\n",
    "    n = 0\n",
    "    while n <= num:\n",
    "        print(n)\n",
    "        print (n**2)\n",
    "        n+= 1\n",
    "    else: \n",
    "        print(\"greater than\", num)\n",
    "        \n",
    "\n",
    "squared(8)"
   ]
  },
  {
   "cell_type": "code",
   "execution_count": 8,
   "metadata": {},
   "outputs": [
    {
     "name": "stdout",
     "output_type": "stream",
     "text": [
      "10\n"
     ]
    }
   ],
   "source": [
    "#3\n",
    "def sumfunction(num):\n",
    "    n=1\n",
    "    sum = 0\n",
    "    while n <= num:\n",
    "        sum = sum + n\n",
    "        n+= 1\n",
    "    print(sum)\n",
    "    \n",
    "sumfunction(4)"
   ]
  },
  {
   "cell_type": "code",
   "execution_count": 25,
   "metadata": {},
   "outputs": [
    {
     "name": "stdout",
     "output_type": "stream",
     "text": [
      "iteration= 1 ,sum= 1\n",
      "iteration= 2 ,sum= 3\n",
      "iteration= 3 ,sum= 6\n"
     ]
    }
   ],
   "source": [
    "#4\n",
    "def total(num):\n",
    "    sum = 0 \n",
    "    for n in range(1,num+1):\n",
    "        sum = sum + n\n",
    "        print(\"iteration=\", n,\",sum=\",sum)\n",
    "    \n",
    "total(3)"
   ]
  },
  {
   "cell_type": "code",
   "execution_count": 18,
   "metadata": {},
   "outputs": [
    {
     "name": "stdout",
     "output_type": "stream",
     "text": [
      "sum=  6\n",
      "mean=  2.0\n",
      "standard deviation=  1.0\n"
     ]
    }
   ],
   "source": [
    "#5\n",
    "import statistics\n",
    "def properties(numbers):\n",
    "    if (len(numbers)>=0 or len(numbers) >99):\n",
    "        print(\"sum= \",sum(numbers))\n",
    "        print(\"mean= \",(sum(numbers)/len(numbers)))\n",
    "        print(\"standard deviation= \", statistics.stdev(numbers))\n",
    "    else:\n",
    "        print(\"Not in range (0,100)\")\n",
    "        \n",
    "items= [1,2,3]        \n",
    "properties(items)"
   ]
  },
  {
   "cell_type": "code",
   "execution_count": 61,
   "metadata": {},
   "outputs": [
    {
     "data": {
      "text/plain": [
       "1"
      ]
     },
     "execution_count": 61,
     "metadata": {},
     "output_type": "execute_result"
    }
   ],
   "source": [
    "#6.1\n",
    "def minimal(v1, v2, v3, v4):\n",
    "    min_value = v1\n",
    "    if v2 < min_value:\n",
    "        min_value= v2\n",
    "    if v3 < min_value:\n",
    "        min_value= v3\n",
    "    if v4 < min_value:\n",
    "        min_value = v4\n",
    "    return( min_value)\n",
    "\n",
    "\n",
    "\n",
    "\n"
   ]
  },
  {
   "cell_type": "code",
   "execution_count": 62,
   "metadata": {},
   "outputs": [
    {
     "data": {
      "text/plain": [
       "1"
      ]
     },
     "execution_count": 62,
     "metadata": {},
     "output_type": "execute_result"
    }
   ],
   "source": [
    "   #6.2\n",
    "def to_print(m1,m2,m3,m4):\n",
    "    value= minimal(m1,m2,m3,m4)\n",
    "    return(value)\n",
    "    \n",
    "to_print(1,2,3,4)"
   ]
  }
 ],
 "metadata": {
  "kernelspec": {
   "display_name": "Python 3",
   "language": "python",
   "name": "python3"
  },
  "language_info": {
   "codemirror_mode": {
    "name": "ipython",
    "version": 3
   },
   "file_extension": ".py",
   "mimetype": "text/x-python",
   "name": "python",
   "nbconvert_exporter": "python",
   "pygments_lexer": "ipython3",
   "version": "3.8.5"
  }
 },
 "nbformat": 4,
 "nbformat_minor": 4
}
